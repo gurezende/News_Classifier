{
  "cells": [
    {
      "cell_type": "code",
      "execution_count": 84,
      "metadata": {
        "id": "iOOAGqOWH-DC"
      },
      "outputs": [],
      "source": [
        "# Imports\n",
        "\n",
        "# Web scraping\n",
        "import requests\n",
        "from bs4 import BeautifulSoup\n",
        "\n",
        "# Dataframes\n",
        "import pandas as pd\n",
        "import numpy as np\n",
        "\n",
        "# Naive Bayes\n",
        "from sklearn.naive_bayes import MultinomialNB\n",
        "from sklearn.feature_extraction.text import CountVectorizer\n",
        "from sklearn.model_selection import train_test_split"
      ]
    },
    {
      "cell_type": "code",
      "execution_count": 6,
      "metadata": {
        "id": "A5HeYMaDRW57"
      },
      "outputs": [],
      "source": [
        "  # Store URL address to a variable\n",
        "  url = 'https://news.google.com/home?hl=pt-BR&gl=BR&ceid=BR:pt-419'\n",
        "\n",
        "  # Pull the page content to result\n",
        "  resultado = requests.get(url)"
      ]
    },
    {
      "cell_type": "code",
      "execution_count": 3,
      "metadata": {
        "colab": {
          "base_uri": "https://localhost:8080/"
        },
        "id": "fKi6yD1iSNI9",
        "outputId": "bf86feee-4af2-4646-de97-232a4d4f27ba"
      },
      "outputs": [
        {
          "output_type": "stream",
          "name": "stdout",
          "text": [
            "Página raspada com sucesso.\n"
          ]
        }
      ],
      "source": [
        " # Se o status for diferente de 200, geramos mensagem de erro\n",
        "if resultado.status_code != 200:\n",
        "  print(\"O request obteve status {}. Verifique sua conexão!\".format(resultado.status_code))\n",
        "else:\n",
        "  print('Página raspada com sucesso.')"
      ]
    },
    {
      "cell_type": "code",
      "execution_count": 7,
      "metadata": {
        "id": "rEjwLaeVSTHL"
      },
      "outputs": [],
      "source": [
        " # Use BeautifulSoup, parse HTML scraped code\n",
        "texto = resultado.text\n",
        "soup = BeautifulSoup(texto, 'html.parser')"
      ]
    },
    {
      "cell_type": "code",
      "execution_count": null,
      "metadata": {
        "id": "ttNoV_78STJ5"
      },
      "outputs": [],
      "source": [
        "print(soup.prettify())"
      ]
    },
    {
      "cell_type": "code",
      "execution_count": 10,
      "metadata": {
        "id": "3DJJWFY8STQD"
      },
      "outputs": [],
      "source": [
        "# Headlines\n",
        "headlines = soup.find_all('a', class_= \"DY5T1d RZIKme\")\n",
        "# List to capture the headlines\n",
        "heads1 = [h.text for h in headlines]"
      ]
    },
    {
      "cell_type": "code",
      "source": [
        "# Links\n",
        "links = soup.find_all('a', href=True)\n",
        "# List to capture the links\n",
        "links_ = [links[l]['href'] for l in range(len(links))]"
      ],
      "metadata": {
        "id": "U_WsR2eptbaA"
      },
      "execution_count": null,
      "outputs": []
    },
    {
      "cell_type": "code",
      "source": [
        "# Function to replace \"./\" with \"https:/news.google.com/\"\n",
        "def sub(text):\n",
        "  return text.replace('./', 'https://news.google.com/')\n",
        "\n",
        "# New list with corrected links\n",
        "links_ = list(map(sub, links_))\n",
        "\n",
        "# Removing duplicates and not articles pages\n",
        "clean_links = (pd.DataFrame(links_)\n",
        "    .drop_duplicates()\n",
        "    .reset_index(drop=True)\n",
        "    .rename(columns={0:'link'})\n",
        "    .query('~link.str.contains(\"publications\")', engine='python')\n",
        "    ).link.to_list()"
      ],
      "metadata": {
        "id": "EPfuSk6NzMJQ"
      },
      "execution_count": 70,
      "outputs": []
    },
    {
      "cell_type": "code",
      "source": [
        "# Dataframe\n",
        "news = pd.DataFrame({'headline': heads1, 'links': clean_links[4:38]})\n",
        "\n",
        "# Labels\n",
        "news['labels'] = ['Brasil', 'Brasil', 'Brasil','Brasil','elections','elections', 'elections', 'elections', 'elections', 'weather', 'weather',\n",
        "                  'weather', 'weather', 'weather', 'Brasil', 'Other', 'Other', 'Live', 'Live', 'Brasil', 'Brasil', 'politics', 'Brasil', \n",
        "                  'elections', 'Highlights', 'Highlights', 'Highlights', 'Highlights', 'Highlights', 'politics', 'blogs', 'politics', 'blogs','economics']"
      ],
      "metadata": {
        "id": "FyyEw99_4IXQ"
      },
      "execution_count": 85,
      "outputs": []
    },
    {
      "cell_type": "code",
      "source": [
        "news.head()"
      ],
      "metadata": {
        "colab": {
          "base_uri": "https://localhost:8080/",
          "height": 206
        },
        "id": "U9PUrCSIrNNG",
        "outputId": "94f14b02-f483-4def-ba3b-58fffdea2563"
      },
      "execution_count": 114,
      "outputs": [
        {
          "output_type": "execute_result",
          "data": {
            "text/plain": [
              "                                            headline  \\\n",
              "0  Feliciano admite espalhar fake news contra o P...   \n",
              "1  Feliciano confirma que dissemina fake news ter...   \n",
              "2  Veja a notícia falsa que mais está causando es...   \n",
              "3  Feliciano admite espalhar fake news sobre fech...   \n",
              "4   Lula tem 45% e Bolsonaro 34% em pesquisa BTG/FSB   \n",
              "\n",
              "                                               links     labels  \n",
              "0  https://news.google.com/articles/CBMieGh0dHBzO...     Brasil  \n",
              "1  https://news.google.com/articles/CAIiEOvS5aZBm...     Brasil  \n",
              "2  https://news.google.com/articles/CAIiECda4EqUB...     Brasil  \n",
              "3  https://news.google.com/articles/CAIiEGZQURfYt...     Brasil  \n",
              "4  https://news.google.com/stories/CAAqNggKIjBDQk...  elections  "
            ],
            "text/html": [
              "\n",
              "  <div id=\"df-acccb30a-5aa3-4abf-afa3-609382fa8452\">\n",
              "    <div class=\"colab-df-container\">\n",
              "      <div>\n",
              "<style scoped>\n",
              "    .dataframe tbody tr th:only-of-type {\n",
              "        vertical-align: middle;\n",
              "    }\n",
              "\n",
              "    .dataframe tbody tr th {\n",
              "        vertical-align: top;\n",
              "    }\n",
              "\n",
              "    .dataframe thead th {\n",
              "        text-align: right;\n",
              "    }\n",
              "</style>\n",
              "<table border=\"1\" class=\"dataframe\">\n",
              "  <thead>\n",
              "    <tr style=\"text-align: right;\">\n",
              "      <th></th>\n",
              "      <th>headline</th>\n",
              "      <th>links</th>\n",
              "      <th>labels</th>\n",
              "    </tr>\n",
              "  </thead>\n",
              "  <tbody>\n",
              "    <tr>\n",
              "      <th>0</th>\n",
              "      <td>Feliciano admite espalhar fake news contra o P...</td>\n",
              "      <td>https://news.google.com/articles/CBMieGh0dHBzO...</td>\n",
              "      <td>Brasil</td>\n",
              "    </tr>\n",
              "    <tr>\n",
              "      <th>1</th>\n",
              "      <td>Feliciano confirma que dissemina fake news ter...</td>\n",
              "      <td>https://news.google.com/articles/CAIiEOvS5aZBm...</td>\n",
              "      <td>Brasil</td>\n",
              "    </tr>\n",
              "    <tr>\n",
              "      <th>2</th>\n",
              "      <td>Veja a notícia falsa que mais está causando es...</td>\n",
              "      <td>https://news.google.com/articles/CAIiECda4EqUB...</td>\n",
              "      <td>Brasil</td>\n",
              "    </tr>\n",
              "    <tr>\n",
              "      <th>3</th>\n",
              "      <td>Feliciano admite espalhar fake news sobre fech...</td>\n",
              "      <td>https://news.google.com/articles/CAIiEGZQURfYt...</td>\n",
              "      <td>Brasil</td>\n",
              "    </tr>\n",
              "    <tr>\n",
              "      <th>4</th>\n",
              "      <td>Lula tem 45% e Bolsonaro 34% em pesquisa BTG/FSB</td>\n",
              "      <td>https://news.google.com/stories/CAAqNggKIjBDQk...</td>\n",
              "      <td>elections</td>\n",
              "    </tr>\n",
              "  </tbody>\n",
              "</table>\n",
              "</div>\n",
              "      <button class=\"colab-df-convert\" onclick=\"convertToInteractive('df-acccb30a-5aa3-4abf-afa3-609382fa8452')\"\n",
              "              title=\"Convert this dataframe to an interactive table.\"\n",
              "              style=\"display:none;\">\n",
              "        \n",
              "  <svg xmlns=\"http://www.w3.org/2000/svg\" height=\"24px\"viewBox=\"0 0 24 24\"\n",
              "       width=\"24px\">\n",
              "    <path d=\"M0 0h24v24H0V0z\" fill=\"none\"/>\n",
              "    <path d=\"M18.56 5.44l.94 2.06.94-2.06 2.06-.94-2.06-.94-.94-2.06-.94 2.06-2.06.94zm-11 1L8.5 8.5l.94-2.06 2.06-.94-2.06-.94L8.5 2.5l-.94 2.06-2.06.94zm10 10l.94 2.06.94-2.06 2.06-.94-2.06-.94-.94-2.06-.94 2.06-2.06.94z\"/><path d=\"M17.41 7.96l-1.37-1.37c-.4-.4-.92-.59-1.43-.59-.52 0-1.04.2-1.43.59L10.3 9.45l-7.72 7.72c-.78.78-.78 2.05 0 2.83L4 21.41c.39.39.9.59 1.41.59.51 0 1.02-.2 1.41-.59l7.78-7.78 2.81-2.81c.8-.78.8-2.07 0-2.86zM5.41 20L4 18.59l7.72-7.72 1.47 1.35L5.41 20z\"/>\n",
              "  </svg>\n",
              "      </button>\n",
              "      \n",
              "  <style>\n",
              "    .colab-df-container {\n",
              "      display:flex;\n",
              "      flex-wrap:wrap;\n",
              "      gap: 12px;\n",
              "    }\n",
              "\n",
              "    .colab-df-convert {\n",
              "      background-color: #E8F0FE;\n",
              "      border: none;\n",
              "      border-radius: 50%;\n",
              "      cursor: pointer;\n",
              "      display: none;\n",
              "      fill: #1967D2;\n",
              "      height: 32px;\n",
              "      padding: 0 0 0 0;\n",
              "      width: 32px;\n",
              "    }\n",
              "\n",
              "    .colab-df-convert:hover {\n",
              "      background-color: #E2EBFA;\n",
              "      box-shadow: 0px 1px 2px rgba(60, 64, 67, 0.3), 0px 1px 3px 1px rgba(60, 64, 67, 0.15);\n",
              "      fill: #174EA6;\n",
              "    }\n",
              "\n",
              "    [theme=dark] .colab-df-convert {\n",
              "      background-color: #3B4455;\n",
              "      fill: #D2E3FC;\n",
              "    }\n",
              "\n",
              "    [theme=dark] .colab-df-convert:hover {\n",
              "      background-color: #434B5C;\n",
              "      box-shadow: 0px 1px 3px 1px rgba(0, 0, 0, 0.15);\n",
              "      filter: drop-shadow(0px 1px 2px rgba(0, 0, 0, 0.3));\n",
              "      fill: #FFFFFF;\n",
              "    }\n",
              "  </style>\n",
              "\n",
              "      <script>\n",
              "        const buttonEl =\n",
              "          document.querySelector('#df-acccb30a-5aa3-4abf-afa3-609382fa8452 button.colab-df-convert');\n",
              "        buttonEl.style.display =\n",
              "          google.colab.kernel.accessAllowed ? 'block' : 'none';\n",
              "\n",
              "        async function convertToInteractive(key) {\n",
              "          const element = document.querySelector('#df-acccb30a-5aa3-4abf-afa3-609382fa8452');\n",
              "          const dataTable =\n",
              "            await google.colab.kernel.invokeFunction('convertToInteractive',\n",
              "                                                     [key], {});\n",
              "          if (!dataTable) return;\n",
              "\n",
              "          const docLinkHtml = 'Like what you see? Visit the ' +\n",
              "            '<a target=\"_blank\" href=https://colab.research.google.com/notebooks/data_table.ipynb>data table notebook</a>'\n",
              "            + ' to learn more about interactive tables.';\n",
              "          element.innerHTML = '';\n",
              "          dataTable['output_type'] = 'display_data';\n",
              "          await google.colab.output.renderOutput(dataTable, element);\n",
              "          const docLink = document.createElement('div');\n",
              "          docLink.innerHTML = docLinkHtml;\n",
              "          element.appendChild(docLink);\n",
              "        }\n",
              "      </script>\n",
              "    </div>\n",
              "  </div>\n",
              "  "
            ]
          },
          "metadata": {},
          "execution_count": 114
        }
      ]
    },
    {
      "cell_type": "code",
      "source": [
        "# Dataset Shape\n",
        "news.shape"
      ],
      "metadata": {
        "colab": {
          "base_uri": "https://localhost:8080/"
        },
        "id": "js3DSGzcwvfW",
        "outputId": "66034944-a689-4f82-963f-73d39f4ed938"
      },
      "execution_count": 122,
      "outputs": [
        {
          "output_type": "execute_result",
          "data": {
            "text/plain": [
              "(34, 3)"
            ]
          },
          "metadata": {},
          "execution_count": 122
        }
      ]
    },
    {
      "cell_type": "markdown",
      "source": [
        "## Multinomial NB"
      ],
      "metadata": {
        "id": "Q1BDS5GQAR7i"
      }
    },
    {
      "cell_type": "code",
      "source": [
        "# Transform the columns to arrays of text\n",
        "x = np.array(news[\"headline\"])\n",
        "y = np.array(news[\"labels\"])\n",
        "\n",
        "# Instantiate Count Vectorizer\n",
        "cv = CountVectorizer()\n",
        "# Fit and Transform\n",
        "X = cv.fit_transform(x)\n",
        "\n",
        "# Train Test Split\n",
        "X_train, X_test, y_train, y_test = train_test_split(X, y, test_size=0.33, random_state=42)"
      ],
      "metadata": {
        "id": "_EHkQHY37TIz"
      },
      "execution_count": 89,
      "outputs": []
    },
    {
      "cell_type": "code",
      "source": [
        "# Instantiating and Training the model\n",
        "model = MultinomialNB()\n",
        "model.fit(X_train,y_train)"
      ],
      "metadata": {
        "colab": {
          "base_uri": "https://localhost:8080/"
        },
        "id": "k5zofUDgCvXt",
        "outputId": "83b485d9-3ada-4a3a-aad7-b72d5e697650"
      },
      "execution_count": 90,
      "outputs": [
        {
          "output_type": "execute_result",
          "data": {
            "text/plain": [
              "MultinomialNB()"
            ]
          },
          "metadata": {},
          "execution_count": 90
        }
      ]
    },
    {
      "cell_type": "code",
      "source": [
        "# Predict\n",
        "new_headline = 'Áudios e vídeos revelam como os criminosos mais perigosos do Brasil pretendiam escapar de presídios'\n",
        "data = cv.transform([new_headline]).toarray()\n",
        "output = model.predict(data)\n",
        "print(output)"
      ],
      "metadata": {
        "colab": {
          "base_uri": "https://localhost:8080/"
        },
        "id": "OGIdGD4ECz61",
        "outputId": "4f7b4c1e-f938-4175-86a0-6fa368fdaef5"
      },
      "execution_count": 93,
      "outputs": [
        {
          "output_type": "stream",
          "name": "stdout",
          "text": [
            "['Brasil']\n"
          ]
        }
      ]
    },
    {
      "cell_type": "code",
      "source": [
        "# Predict\n",
        "new_headline = '55% dos brasileiros desaprovam governo Bolsonaro'\n",
        "data = cv.transform([new_headline]).toarray()\n",
        "output = model.predict(data)\n",
        "print(output)"
      ],
      "metadata": {
        "colab": {
          "base_uri": "https://localhost:8080/"
        },
        "id": "9i_URvp3DZKN",
        "outputId": "a9610434-42db-4ce6-f5ce-a56038c1f40e"
      },
      "execution_count": 95,
      "outputs": [
        {
          "output_type": "stream",
          "name": "stdout",
          "text": [
            "['elections']\n"
          ]
        }
      ]
    },
    {
      "cell_type": "code",
      "source": [
        "# Predict\n",
        "new_headline = 'Previsto calor para toda a semana no nordeste'\n",
        "data = cv.transform([new_headline]).toarray()\n",
        "output = model.predict(data)\n",
        "print(output)"
      ],
      "metadata": {
        "colab": {
          "base_uri": "https://localhost:8080/"
        },
        "id": "dcqgUsKsbpaE",
        "outputId": "a36ddfd2-f4ba-4af0-fd24-47f60ec23468"
      },
      "execution_count": 120,
      "outputs": [
        {
          "output_type": "stream",
          "name": "stdout",
          "text": [
            "['weather']\n"
          ]
        }
      ]
    },
    {
      "cell_type": "code",
      "source": [
        ""
      ],
      "metadata": {
        "id": "NBwytfkjvqsS"
      },
      "execution_count": null,
      "outputs": []
    }
  ],
  "metadata": {
    "colab": {
      "name": "MultinomialNB.ipynb",
      "provenance": []
    },
    "kernelspec": {
      "display_name": "Python 3",
      "name": "python3"
    },
    "language_info": {
      "name": "python"
    }
  },
  "nbformat": 4,
  "nbformat_minor": 0
}